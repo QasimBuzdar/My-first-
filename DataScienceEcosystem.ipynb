{
 "cells": [
  {
   "cell_type": "markdown",
   "id": "0aa0c4f1-5e37-4c95-8777-215ae27848c6",
   "metadata": {},
   "source": [
    "#Data Science Tools and Ecosystem"
   ]
  },
  {
   "cell_type": "markdown",
   "id": "136d213e-203e-42a5-94cb-ff71acf3f0d1",
   "metadata": {},
   "source": [
    "In this notebook, Data Science Tools and Ecosystem are summarized. We learn about the tools used for data science like python language, spss modeler and many more ."
   ]
  },
  {
   "cell_type": "markdown",
   "id": "67f65a79-1d81-4d4d-a05d-93fe28e46913",
   "metadata": {},
   "source": [
    "Some of the popular languages that Data Scientists use are:\n",
    "1. R\n",
    "2. Python\n",
    "3. Javascript"
   ]
  },
  {
   "cell_type": "markdown",
   "id": "e8dbd34f-b1d7-4882-9a65-504d1dbdf746",
   "metadata": {},
   "source": [
    "Some of the commonly used libraries used by Data Scientists include:\n",
    "    1.NumPy\n",
    "    2.SciPy\n",
    "    3.PyTorch"
   ]
  },
  {
   "cell_type": "markdown",
   "id": "221b8ee5-2984-4ae7-abe5-91f87bffd4ba",
   "metadata": {},
   "source": [
    "Data Science Tools\n",
    "\n",
    "Apache Spark\n",
    "\n",
    "BigML \n",
    "\n",
    "MATLAB"
   ]
  },
  {
   "cell_type": "markdown",
   "id": "ddc07800-7364-4f66-83e2-4e0f42877867",
   "metadata": {},
   "source": [
    "##Below are a few examples of evaluating arithmetic expressions in Python"
   ]
  },
  {
   "cell_type": "code",
   "execution_count": 4,
   "id": "d6f658f6-7984-4dbe-9d0d-b473147ed42b",
   "metadata": {},
   "outputs": [
    {
     "data": {
      "text/plain": [
       "17"
      ]
     },
     "execution_count": 4,
     "metadata": {},
     "output_type": "execute_result"
    }
   ],
   "source": [
    "(3*4)+5 #This a simple arithmetic expression to mutiply then add integers"
   ]
  },
  {
   "cell_type": "code",
   "execution_count": 8,
   "id": "381809d2-f521-437b-b23a-21597e94adc3",
   "metadata": {},
   "outputs": [
    {
     "name": "stdout",
     "output_type": "stream",
     "text": [
      "03:20\n"
     ]
    }
   ],
   "source": [
    "minutes = 200\n",
    "print(\"%02d:%02d\" % (divmod(minutes, 60)))"
   ]
  },
  {
   "cell_type": "markdown",
   "id": "e0788e29-8e9e-4ef3-8fc5-b08655e2624d",
   "metadata": {},
   "source": [
    "#Objectives:\n",
    "\n",
    "R\n",
    "\n",
    "Java \n",
    "\n",
    "Python\n",
    "\n"
   ]
  },
  {
   "cell_type": "markdown",
   "id": "30493555-bf88-400d-b28c-06854ffeb102",
   "metadata": {},
   "source": [
    "##Author\n",
    "\n",
    "MUHAMMAD QASIM"
   ]
  },
  {
   "cell_type": "code",
   "execution_count": null,
   "id": "a11b0b5b-71eb-4add-98a0-1d55fa37e9ea",
   "metadata": {},
   "outputs": [],
   "source": []
  }
 ],
 "metadata": {
  "kernelspec": {
   "display_name": "Python",
   "language": "python",
   "name": "conda-env-python-py"
  },
  "language_info": {
   "codemirror_mode": {
    "name": "ipython",
    "version": 3
   },
   "file_extension": ".py",
   "mimetype": "text/x-python",
   "name": "python",
   "nbconvert_exporter": "python",
   "pygments_lexer": "ipython3",
   "version": "3.7.12"
  }
 },
 "nbformat": 4,
 "nbformat_minor": 5
}
